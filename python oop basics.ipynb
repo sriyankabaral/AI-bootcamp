{
 "cells": [
  {
   "cell_type": "code",
   "execution_count": 3,
   "id": "441c9397-460f-4706-85e8-e5beadb4d783",
   "metadata": {},
   "outputs": [
    {
     "name": "stdout",
     "output_type": "stream",
     "text": [
      "<__main__.dot object at 0x000001901FEE2E10>\n"
     ]
    }
   ],
   "source": [
    "class dot:\n",
    "    pass \n",
    "profile1=dot()\n",
    "print(profile1)"
   ]
  },
  {
   "cell_type": "code",
   "execution_count": 4,
   "id": "15c78450-336f-4afe-b92d-9f34510569fe",
   "metadata": {},
   "outputs": [
    {
     "data": {
      "text/plain": [
       "['__class__',\n",
       " '__delattr__',\n",
       " '__dict__',\n",
       " '__dir__',\n",
       " '__doc__',\n",
       " '__eq__',\n",
       " '__format__',\n",
       " '__ge__',\n",
       " '__getattribute__',\n",
       " '__getstate__',\n",
       " '__gt__',\n",
       " '__hash__',\n",
       " '__init__',\n",
       " '__init_subclass__',\n",
       " '__le__',\n",
       " '__lt__',\n",
       " '__module__',\n",
       " '__ne__',\n",
       " '__new__',\n",
       " '__reduce__',\n",
       " '__reduce_ex__',\n",
       " '__repr__',\n",
       " '__setattr__',\n",
       " '__sizeof__',\n",
       " '__str__',\n",
       " '__subclasshook__',\n",
       " '__weakref__']"
      ]
     },
     "execution_count": 4,
     "metadata": {},
     "output_type": "execute_result"
    }
   ],
   "source": [
    "dir(dot) #special methods"
   ]
  },
  {
   "cell_type": "code",
   "execution_count": 6,
   "id": "de1b6bab-fe05-4f7a-88e9-80102627b725",
   "metadata": {},
   "outputs": [
    {
     "name": "stdout",
     "output_type": "stream",
     "text": [
      "name of student:sriyanka baral\n",
      " age of student: [21]\n",
      " clas of the student:BEI048\n"
     ]
    }
   ],
   "source": [
    "profile1.name=\"sriyanka baral\"\n",
    "profile1.age=21\n",
    "profile1.clas=\"BEI048\"\n",
    "print(f'name of student:{profile1.name}\\n age of student: {[profile1.age]}\\n clas of the student:{profile1.clas}')"
   ]
  },
  {
   "cell_type": "code",
   "execution_count": 12,
   "id": "bce767a3-0c40-48fb-91b1-c90951ea0e48",
   "metadata": {},
   "outputs": [
    {
     "name": "stdout",
     "output_type": "stream",
     "text": [
      "name of the student:suchana\n",
      " age of the student :20\n",
      " clas of the student:BEI048\n",
      "*******************\n",
      "name of the student:sriyanka baral\n",
      " age of the student: [21] \n",
      " class of the student:BEI048\n"
     ]
    }
   ],
   "source": [
    "name=\"suchana\"\n",
    "age =20\n",
    "clas=\"BEI078\"\n",
    "print(f'name of the student:{name}\\n age of the student :{age}\\n clas of the student:{profile1.clas}')\n",
    "print('*******************')\n",
    "print(f'name of the student:{profile1.name}\\n age of the student: {[profile1.age]} \\n class of the student:{profile1.clas}')"
   ]
  },
  {
   "cell_type": "code",
   "execution_count": 18,
   "id": "07403ef9-a84d-4dcf-9b86-566fa5b14ecf",
   "metadata": {},
   "outputs": [
    {
     "name": "stdout",
     "output_type": "stream",
     "text": [
      "Hello Sriyanka baral of age 21, studying in class BEI078\n"
     ]
    }
   ],
   "source": [
    "class myprofile:\n",
    "   \n",
    "\n",
    "    def __init__(flef, name, age, classname):\n",
    "        flef.name = name\n",
    "        flef.age = age\n",
    "        flef.classname = classname\n",
    "        \n",
    "    def __str__(slef) -> str:\n",
    "        \"\"\" String representation of the Student Profile \"\"\"\n",
    "        return f'Hello {slef.name} of age {slef.age}, studying in class {slef.classname}'\n",
    "    \n",
    "profile1 = myprofile(\"Sriyanka baral\", 21, \"BEI078\")\n",
    "print(profile1)"
   ]
  },
  {
   "cell_type": "code",
   "execution_count": 29,
   "id": "892a9821-6d9b-4dce-9848-43a19d13c37b",
   "metadata": {},
   "outputs": [
    {
     "name": "stdout",
     "output_type": "stream",
     "text": [
      "Hello Sriyanka Baral of age 21, studying in class BEI078 \n",
      "\n",
      "Hello Sriyanka Baral of age 20, studying in class BEI078 \n",
      "\n",
      "Hello Sriyanka Baral of age 20, studying in class BEI079 \n",
      "\n",
      "Hey Sriyanka Baral!  Welcome to the class BEI079. \n",
      "\n",
      "Is the student an adult? True\n"
     ]
    }
   ],
   "source": [
    "class myprofile:\n",
    "    \"\"\"\n",
    "    This is the class to create my profile;\n",
    "    name -> my full name\n",
    "    age -> my age\n",
    "    classname -> my classname\n",
    "    \"\"\"\n",
    "\n",
    "    def __init__(self, name, age, classname):\n",
    "        self.name = name\n",
    "        self.age = age\n",
    "        self.classname = classname\n",
    "        \n",
    "    def __str__(self) -> str:\n",
    "        \"\"\"String representation of the Student Profile\"\"\"\n",
    "        return f'Hi {self.name} of age {self.age}, studying in class {self.classname}'\n",
    "    \n",
    "    def __eq__(self, other) -> bool:\n",
    "        \"\"\"Checks if two MyProfile instances are equal\"\"\"\n",
    "        if isinstance(other, myprofile):\n",
    "            return (self.name == other.name and\n",
    "                    self.age == other.age and\n",
    "                    self.classname == other.classname)\n",
    "        return False\n",
    "    \n",
    "    def update_age(self, new_age: int) -> int:\n",
    "        \"\"\"Updates the age of the student\"\"\"\n",
    "        self.age = new_age\n",
    "        \n",
    "    def update_classname(self, new_classname: str) -> str:\n",
    "        \"\"\"Updates the classname of the student\"\"\"\n",
    "        self.classname = new_classname\n",
    "        \n",
    "    def greet(self) -> str:\n",
    "        \"\"\"Returns a personalized greeting\"\"\"\n",
    "        return f'Hey {self.name}!  Welcome to the class {self.classname}.'\n",
    "    \n",
    "    def is_adult(self) -> bool:\n",
    "        \"\"\"Checks if the student is an adult (18 years or older)\"\"\"\n",
    "        return self.age >= 18\n",
    "\n",
    "profile1 = myprofile(\"Sriyanka Baral\", 21, \"BEI078\")\n",
    "\n",
    "print(profile1,'\\n')\n",
    "\n",
    "profile1.update_age(20)\n",
    "print(profile1,'\\n')\n",
    "\n",
    "profile1.update_classname(\"BEI079\")\n",
    "print(profile1,'\\n')\n",
    "print(profile1.greet(),'\\n')\n",
    "\n",
    "print(f'Is the student an adult? {profile1.is_adult()}')"
   ]
  },
  {
   "cell_type": "code",
   "execution_count": 31,
   "id": "186f53e8-39f2-4509-b706-a446d31b73d9",
   "metadata": {},
   "outputs": [
    {
     "ename": "IndentationError",
     "evalue": "expected an indented block after class definition on line 29 (1925902769.py, line 30)",
     "output_type": "error",
     "traceback": [
      "\u001b[1;36m  Cell \u001b[1;32mIn[31], line 30\u001b[1;36m\u001b[0m\n\u001b[1;33m    \"\"\"\u001b[0m\n\u001b[1;37m    ^\u001b[0m\n\u001b[1;31mIndentationError\u001b[0m\u001b[1;31m:\u001b[0m expected an indented block after class definition on line 29\n"
     ]
    }
   ],
   "source": [
    "class Student:\n",
    "    \"\"\"\n",
    "    This class represents a student.\n",
    "    Attributes:\n",
    "    - name: Full name of the student\n",
    "    - student_id: Unique ID for the student\n",
    "    - attendance: A dictionary to track attendance\n",
    "    \"\"\"\n",
    "\n",
    "    def __init__(self, name: str, student_id: int):\n",
    "        self.name = name\n",
    "        self.student_id = student_id\n",
    "        self.attendance = {}\n",
    "\n",
    "    def mark_attendance(self, date: str, status: str):\n",
    "        \"\"\"\n",
    "        Marks the student's attendance for a specific date.\n",
    "        Parameters:\n",
    "        - date: The date of the attendance record (e.g., \"2024-07-10\")\n",
    "        - status: The attendance status (e.g., \"Present\", \"Absent\")\n",
    "        \"\"\"\n",
    "        self.attendance[date] = status\n",
    "\n",
    "    def __str__(self):\n",
    "        return f'{self.name} (ID: {self.student_id})'\n",
    "\n",
    "\n",
    "    \n",
    "    class Classroom:\n",
    "    \"\"\"\n",
    "    This class manages a list of students and their attendance.\n",
    "    Attributes:\n",
    "    - class_name: Name of the classroom\n",
    "    - students: A list of Student objects\n",
    "    \"\"\"\n",
    "\n",
    "     def __init__(self, class_name: str):\n",
    "        self.class_name = class_name\n",
    "        self.students = []\n",
    "\n",
    "     def add_student(self, student: Student):\n",
    "        \"\"\"\n",
    "        Adds a student to the classroom.\n",
    "        Parameters:\n",
    "        - student: A Student object\n",
    "        \"\"\"\n",
    "        self.students.append(student)\n",
    "\n",
    "     def mark_attendance_for_all(self, date: str, statuses: dict):\n",
    "        \"\"\"\n",
    "        Marks attendance for all students in the classroom.\n",
    "        Parameters:\n",
    "        - date: The date of the attendance record\n",
    "        - statuses: A dictionary with student IDs as keys and attendance statuses as values\n",
    "        \"\"\"\n",
    "        for student in self.students:\n",
    "            if student.student_id in statuses:\n",
    "                student.mark_attendance(date, statuses[student.student_id])\n",
    "\n",
    "     def get_attendance_report(self):\n",
    "        \"\"\"\n",
    "        Prints the attendance report for all students.\n",
    "        \"\"\"\n",
    "        for student in self.students:\n",
    "            print(f'{student}: {student.attendance}')\n",
    "\n",
    "# Example Usage\n",
    "# Create instances of Student\n",
    "student1 = Student(\"suchana \", 40)\n",
    "student2 = Student(\"sriyanka\", 48)\n",
    "\n",
    "\n",
    "# Create an instance of Classroom\n",
    "classroom = Classroom(\"Class 303\")\n",
    "\n",
    "# Add students to the classroom\n",
    "classroom.add_student(student1)\n",
    "classroom.add_student(student2)\n",
    "\n",
    "# Mark attendance for all students\n",
    "attendance_statuses = {40: \"Present\", 48: \"Absent\"}\n",
    "classroom.mark_attendance_for_all(\"2024-07-10\", attendance_statuses)\n",
    "\n",
    "# Print the attendance report\n",
    "classroom.get_attendance_report()    \n",
    "        "
   ]
  },
  {
   "cell_type": "code",
   "execution_count": 33,
   "id": "0c5a450e-8b82-4aa8-adb4-d4b5d44534f8",
   "metadata": {},
   "outputs": [
    {
     "name": "stdout",
     "output_type": "stream",
     "text": [
      "Sriyanka Baral (ID: 48): {'2024-07-10': 'Present'}\n",
      "suchana Subedi (ID: 40): {'2024-07-10': 'Absent'}\n"
     ]
    }
   ],
   "source": [
    "class Student:\n",
    "    \"\"\"\n",
    "    This class represents a student.\n",
    "    Attributes:\n",
    "    - name: Full name of the student\n",
    "    - student_id: Unique ID for the student\n",
    "    - attendance: A dictionary to track attendance\n",
    "    \"\"\"\n",
    "\n",
    "    def __init__(self, name: str, student_id: int):\n",
    "        self.name = name\n",
    "        self.student_id = student_id\n",
    "        self.attendance = {}\n",
    "\n",
    "    def mark_attendance(self, date: str, status: str):\n",
    "        \"\"\"\n",
    "        Marks the student's attendance for a specific date.\n",
    "        Parameters:\n",
    "        - date: The date of the attendance record (e.g., \"2024-07-10\")\n",
    "        - status: The attendance status (e.g., \"Present\", \"Absent\")\n",
    "        \"\"\"\n",
    "        self.attendance[date] = status\n",
    "\n",
    "    def __str__(self):\n",
    "        return f'{self.name} (ID: {self.student_id})'\n",
    "\n",
    "class Classroom:\n",
    "    \"\"\"\n",
    "    This class manages a list of students and their attendance.\n",
    "    Attributes:\n",
    "    - class_name: Name of the classroom\n",
    "    - students: A list of Student objects\n",
    "    \"\"\"\n",
    "\n",
    "    def __init__(self, class_name: str):\n",
    "        self.class_name = class_name\n",
    "        self.students = []\n",
    "\n",
    "    def add_student(self, student: Student):\n",
    "        \"\"\"\n",
    "        Adds a student to the classroom.\n",
    "        Parameters:\n",
    "        - student: A Student object\n",
    "        \"\"\"\n",
    "        self.students.append(student)\n",
    "\n",
    "    def mark_attendance_for_all(self, date: str, statuses: dict):\n",
    "        \"\"\"\n",
    "        Marks attendance for all students in the classroom.\n",
    "        Parameters:\n",
    "        - date: The date of the attendance record\n",
    "        - statuses: A dictionary with student IDs as keys and attendance statuses as values\n",
    "        \"\"\"\n",
    "        for student in self.students:\n",
    "            if student.student_id in statuses:\n",
    "                student.mark_attendance(date, statuses[student.student_id])\n",
    "\n",
    "    def get_attendance_report(self):\n",
    "        \"\"\"\n",
    "        Prints the attendance report for all students.\n",
    "        \"\"\"\n",
    "        for student in self.students:\n",
    "            print(f'{student}: {student.attendance}')\n",
    "\n",
    "# Example Usage\n",
    "# Create instances of Student\n",
    "student1 = Student(\"Sriyanka Baral\", 48)\n",
    "student2 = Student(\"suchana Subedi\", 40)\n",
    "\n",
    "\n",
    "# Create an instance of Classroom\n",
    "classroom = Classroom(\"Class 303\")\n",
    "\n",
    "# Add students to the classroom\n",
    "classroom.add_student(student1)\n",
    "classroom.add_student(student2)\n",
    "\n",
    "# Mark attendance for all students\n",
    "attendance_statuses = {48: \"Present\", 40: \"Absent\"}\n",
    "classroom.mark_attendance_for_all(\"2024-07-10\", attendance_statuses)\n",
    "\n",
    "# Print the attendance report\n",
    "classroom.get_attendance_report()"
   ]
  },
  {
   "cell_type": "code",
   "execution_count": null,
   "id": "87fc73ff-a835-497f-8d7d-043dbd4bf9b4",
   "metadata": {},
   "outputs": [],
   "source": []
  }
 ],
 "metadata": {
  "kernelspec": {
   "display_name": "Python 3 (ipykernel)",
   "language": "python",
   "name": "python3"
  },
  "language_info": {
   "codemirror_mode": {
    "name": "ipython",
    "version": 3
   },
   "file_extension": ".py",
   "mimetype": "text/x-python",
   "name": "python",
   "nbconvert_exporter": "python",
   "pygments_lexer": "ipython3",
   "version": "3.12.3"
  }
 },
 "nbformat": 4,
 "nbformat_minor": 5
}

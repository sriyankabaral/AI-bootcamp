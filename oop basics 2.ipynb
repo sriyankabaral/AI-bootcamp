{
 "cells": [
  {
   "cell_type": "code",
   "execution_count": 14,
   "id": "a55207ca-c6e3-4f4d-b06a-79dd1296a50e",
   "metadata": {},
   "outputs": [
    {
     "name": "stdout",
     "output_type": "stream",
     "text": [
      "Sriyanka Baral\n",
      "50000\n",
      "'Employee' object has no attribute '__id'\n",
      "1234\n",
      "This is a protected method\n",
      "'Employee' object has no attribute '__private_method'\n",
      "This is a private method\n",
      "This is a private method\n"
     ]
    }
   ],
   "source": [
    "  #Encapsulation\n",
    "class Employee:\n",
    "    def __init__(self, name, salary):\n",
    "        self.name = name              # Public attribute\n",
    "        self._salary = salary         # Protected attribute; Accessing them is not recommended\n",
    "        self.__id = 1234              # Private attribute\n",
    "\n",
    "    def get_details(self):\n",
    "        return f\"Name: {self.name}, Salary: {self._salary}\"\n",
    "\n",
    "    def _protected_method(self):\n",
    "        print(\"This is a protected method\")\n",
    "\n",
    "    def __private_method(self):\n",
    "        print(\"This is a private method\")\n",
    "\n",
    "    def access_private_method(self):\n",
    "        self.__private_method()\n",
    "\n",
    "# Creating an instance of the Employee class\n",
    "emp = Employee(\"Sriyanka Baral\", 50000)\n",
    "\n",
    "# Accessing public attribute\n",
    "print(emp.name)  \n",
    "\n",
    "# Accessing protected attribute\n",
    "print(emp._salary) \n",
    "\n",
    "# Accessing private attribute (will raise an AttributeError)\n",
    "try:\n",
    "    print(emp.__id)\n",
    "except AttributeError as e:\n",
    "    print(e)  \n",
    "\n",
    "# Accessing private attribute using name mangling\n",
    "print(emp._Employee__id) \n",
    "\n",
    "# Accessing protected method\n",
    "emp._protected_method() \n",
    "\n",
    "# Accessing private method directly (will raise an AttributeError)\n",
    "try:\n",
    "    emp.__private_method()\n",
    "except AttributeError as e:\n",
    "    print(e)  \n",
    "\n",
    "# Accessing private method using name mangling\n",
    "emp._Employee__private_method() \n",
    "\n",
    "# Accessing private method via a public method\n",
    "emp.access_private_method() "
   ]
  },
  {
   "cell_type": "code",
   "execution_count": 15,
   "id": "c1e122a5-56d5-4634-8299-805bf193e573",
   "metadata": {},
   "outputs": [
    {
     "name": "stdout",
     "output_type": "stream",
     "text": [
      "Puppy is 4 years old\n",
      "Puppy is eating\n",
      "Puppy says Woof!\n",
      "Puppy is fetching\n",
      "Puppy is 4 years old and is a Bhusiya\n"
     ]
    }
   ],
   "source": [
    "#inheritance\n",
    "#single inheritance\n",
    "# Parent class (Superclass)\n",
    "class Animal:\n",
    "    def __init__(self, name, age):\n",
    "        self.name = name\n",
    "        self.age = age\n",
    "    \n",
    "    def description(self):\n",
    "        return f\"{self.name} is {self.age} years old\"\n",
    "\n",
    "    def eat(self):\n",
    "        return f\"{self.name} is eating\"\n",
    "\n",
    "# Child class (Subclass) inheriting from Animal\n",
    "class Dog(Animal):\n",
    "    def __init__(self, name, age, breed):\n",
    "        super().__init__(name, age)\n",
    "        self.breed = breed\n",
    "    \n",
    "    def bark(self):\n",
    "        return f\"{self.name} says Woof!\"\n",
    "\n",
    "    def fetch(self):\n",
    "        return f\"{self.name} is fetching\"\n",
    "\n",
    "# Usage:\n",
    "dog = Dog(\"Puppy\", 4, \"Bhusiya\")\n",
    "print(dog.description())    \n",
    "print(dog.eat())            \n",
    "print(dog.bark())           \n",
    "print(dog.fetch())          \n",
    "print(f\"{dog.name} is {dog.age} years old and is a {dog.breed}\") "
   ]
  },
  {
   "cell_type": "code",
   "execution_count": 18,
   "id": "3ac670cb-b944-4fa0-a643-0850f1ff2466",
   "metadata": {},
   "outputs": [
    {
     "name": "stdout",
     "output_type": "stream",
     "text": [
      "Puppy is speaking\n",
      "Mammal is eating\n",
      "Puppy says Woof!\n",
      "Puppy is 4 years old and is a Bhusiya\n"
     ]
    }
   ],
   "source": [
    "#multiple inheritance\n",
    "# First parent class\n",
    "class Animal:\n",
    "    def __init__(self, name):\n",
    "        self.name = name\n",
    "    \n",
    "    def speak(self):\n",
    "        return f\"{self.name} is speaking\"\n",
    "\n",
    "# Second parent class\n",
    "class Mammal:\n",
    "    def __init__(self, age):\n",
    "        self.age = age\n",
    "    \n",
    "    def eat(self):\n",
    "        return f\"Mammal is eating\"\n",
    "\n",
    "# Child class inheriting from Animal and Mammal\n",
    "class Dog(Animal, Mammal):\n",
    "    def __init__(self, name, age, breed):\n",
    "        (Animal).__init__(self, name)  \n",
    "        (Mammal).__init__(self, age)   \n",
    "        self.breed = breed           \n",
    "    \n",
    "    def bark(self):\n",
    "        return f\"{self.name} says Woof!\"\n",
    "\n",
    "# Usage:\n",
    "dog = Dog(\"Puppy\", 4, \"Bhusiya\")\n",
    "print(dog.speak())    \n",
    "print(dog.eat())      \n",
    "print(dog.bark())     \n",
    "print(f\"{dog.name} is {dog.age} years old and is a {dog.breed}\")  "
   ]
  },
  {
   "cell_type": "code",
   "execution_count": 20,
   "id": "fd12fc14-46a5-46fe-878d-f0f487cc8897",
   "metadata": {},
   "outputs": [
    {
     "name": "stdout",
     "output_type": "stream",
     "text": [
      "Max says Woof!\n",
      "Max is fetching\n"
     ]
    },
    {
     "ename": "NotImplementedError",
     "evalue": "Subclass must implement abstract method",
     "output_type": "error",
     "traceback": [
      "\u001b[1;31m---------------------------------------------------------------------------\u001b[0m",
      "\u001b[1;31mNotImplementedError\u001b[0m                       Traceback (most recent call last)",
      "Cell \u001b[1;32mIn[20], line 25\u001b[0m\n\u001b[0;32m     22\u001b[0m \u001b[38;5;28mprint\u001b[39m(puppy\u001b[38;5;241m.\u001b[39mfetch())  \n\u001b[0;32m     24\u001b[0m ani \u001b[38;5;241m=\u001b[39m Animal(\u001b[38;5;124m'\u001b[39m\u001b[38;5;124mXYZ\u001b[39m\u001b[38;5;124m'\u001b[39m)\n\u001b[1;32m---> 25\u001b[0m \u001b[38;5;28mprint\u001b[39m(\u001b[43mani\u001b[49m\u001b[38;5;241;43m.\u001b[39;49m\u001b[43mspeak\u001b[49m\u001b[43m(\u001b[49m\u001b[43m)\u001b[49m)\n",
      "Cell \u001b[1;32mIn[20], line 7\u001b[0m, in \u001b[0;36mAnimal.speak\u001b[1;34m(self)\u001b[0m\n\u001b[0;32m      6\u001b[0m \u001b[38;5;28;01mdef\u001b[39;00m \u001b[38;5;21mspeak\u001b[39m(\u001b[38;5;28mself\u001b[39m):\n\u001b[1;32m----> 7\u001b[0m     \u001b[38;5;28;01mraise\u001b[39;00m \u001b[38;5;167;01mNotImplementedError\u001b[39;00m(\u001b[38;5;124m\"\u001b[39m\u001b[38;5;124mSubclass must implement abstract method\u001b[39m\u001b[38;5;124m\"\u001b[39m)\n",
      "\u001b[1;31mNotImplementedError\u001b[0m: Subclass must implement abstract method"
     ]
    }
   ],
   "source": [
    "#multilevel inheritance\n",
    "# Grandparent class\n",
    "class Animal:\n",
    "    def __init__(self, name):\n",
    "        self.name = name\n",
    "    \n",
    "    def speak(self):\n",
    "        raise NotImplementedError(\"Subclass must implement abstract method\")\n",
    "\n",
    "# Parent class inheriting from Animal\n",
    "class Dog(Animal):\n",
    "    def speak(self):\n",
    "        return f\"{self.name} says Woof!\"\n",
    "\n",
    "# Child class inheriting from Dog\n",
    "class Puppy(Dog):\n",
    "    def fetch(self):\n",
    "        return f\"{self.name} is fetching\"\n",
    "\n",
    "# Usage:\n",
    "puppy = Puppy(\"Max\")\n",
    "print(puppy.speak())    \n",
    "print(puppy.fetch())  \n",
    "\n",
    "ani = Animal('XYZ')\n",
    "print(ani.speak())"
   ]
  },
  {
   "cell_type": "code",
   "execution_count": 22,
   "id": "e4543f24-7cb8-49e6-804e-aa6b1f6df0eb",
   "metadata": {},
   "outputs": [
    {
     "name": "stdout",
     "output_type": "stream",
     "text": [
      "Puppy says Woof!\n",
      "Neko says Meow!\n"
     ]
    },
    {
     "ename": "NotImplementedError",
     "evalue": "Subclass must implement abstract method",
     "output_type": "error",
     "traceback": [
      "\u001b[1;31m---------------------------------------------------------------------------\u001b[0m",
      "\u001b[1;31mNotImplementedError\u001b[0m                       Traceback (most recent call last)",
      "Cell \u001b[1;32mIn[22], line 25\u001b[0m\n\u001b[0;32m     23\u001b[0m \u001b[38;5;28mprint\u001b[39m(cat\u001b[38;5;241m.\u001b[39mspeak())\n\u001b[0;32m     24\u001b[0m ani \u001b[38;5;241m=\u001b[39m Animal(\u001b[38;5;124m\"\u001b[39m\u001b[38;5;124msuchana\u001b[39m\u001b[38;5;124m\"\u001b[39m)\n\u001b[1;32m---> 25\u001b[0m \u001b[43mani\u001b[49m\u001b[38;5;241;43m.\u001b[39;49m\u001b[43mspeak\u001b[49m\u001b[43m(\u001b[49m\u001b[43m)\u001b[49m\n",
      "Cell \u001b[1;32mIn[22], line 7\u001b[0m, in \u001b[0;36mAnimal.speak\u001b[1;34m(self)\u001b[0m\n\u001b[0;32m      6\u001b[0m \u001b[38;5;28;01mdef\u001b[39;00m \u001b[38;5;21mspeak\u001b[39m(\u001b[38;5;28mself\u001b[39m):\n\u001b[1;32m----> 7\u001b[0m     \u001b[38;5;28;01mraise\u001b[39;00m \u001b[38;5;167;01mNotImplementedError\u001b[39;00m(\u001b[38;5;124m\"\u001b[39m\u001b[38;5;124mSubclass must implement abstract method\u001b[39m\u001b[38;5;124m\"\u001b[39m)\n",
      "\u001b[1;31mNotImplementedError\u001b[0m: Subclass must implement abstract method"
     ]
    }
   ],
   "source": [
    "#Hierarchial inheritance\n",
    "# Superclass\n",
    "class Animal:\n",
    "    def __init__(self, name):\n",
    "        self.name = name\n",
    "    \n",
    "    def speak(self):\n",
    "        raise NotImplementedError(\"Subclass must implement abstract method\")\n",
    "\n",
    "# Subclass 1 inheriting from Animal\n",
    "class Dog(Animal):\n",
    "    def speak(self):            # common behavior and attributes\n",
    "        return f\"{self.name} says Woof!\"\n",
    "\n",
    "# Subclass 2 inheriting from Animal\n",
    "class Cat(Animal):\n",
    "    def speak(self):            # common behavior and attributes\n",
    "        return f\"{self.name} says Meow!\"\n",
    "\n",
    "# Usage:\n",
    "dog = Dog(\"Puppy\")\n",
    "cat = Cat(\"Neko\")\n",
    "print(dog.speak())  \n",
    "print(cat.speak())\n",
    "ani = Animal(\"suchana\")\n",
    "ani.speak()"
   ]
  },
  {
   "cell_type": "code",
   "execution_count": null,
   "id": "911834e7-95ed-49c3-80bb-9084261960f1",
   "metadata": {},
   "outputs": [],
   "source": [
    "#Hybrid inheritance\n",
    "# Superclass 1\n",
    "class Animal:\n",
    "    def __init__(self, name):\n",
    "        self.name = name\n",
    "    \n",
    "    def speak(self):\n",
    "        raise NotImplementedError(\"Subclass must implement abstract method\")\n",
    "\n",
    "# Superclass 2\n",
    "class Mammal:\n",
    "    def feed_milk(self):\n",
    "        return f\"{self.name} feeds milk\"\n",
    "\n",
    "# Subclass inheriting from Animal and Mammal\n",
    "class Dog(Animal, Mammal):\n",
    "    def speak(self):\n",
    "        return f\"{self.name} says Woof!\"\n",
    "\n",
    "# Subclass inheriting from Dog\n",
    "class Puppy(Dog):\n",
    "    def fetch(self):\n",
    "        return f\"{self.name} is fetching\"\n",
    "\n",
    "# Usage:\n",
    "puppy = Puppy(\"Fuchhe\")\n",
    "print(puppy.speak())          \n",
    "print(puppy.feed_milk())      \n",
    "print(puppy.fetch())          "
   ]
  }
 ],
 "metadata": {
  "kernelspec": {
   "display_name": "Python 3 (ipykernel)",
   "language": "python",
   "name": "python3"
  },
  "language_info": {
   "codemirror_mode": {
    "name": "ipython",
    "version": 3
   },
   "file_extension": ".py",
   "mimetype": "text/x-python",
   "name": "python",
   "nbconvert_exporter": "python",
   "pygments_lexer": "ipython3",
   "version": "3.12.3"
  }
 },
 "nbformat": 4,
 "nbformat_minor": 5
}

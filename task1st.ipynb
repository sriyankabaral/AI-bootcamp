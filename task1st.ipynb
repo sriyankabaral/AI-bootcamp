{
 "cells": [
  {
   "cell_type": "code",
   "execution_count": 1,
   "id": "a23ccdfe-8cf3-47a2-96a6-1687b685a2bd",
   "metadata": {},
   "outputs": [
    {
     "ename": "TypeError",
     "evalue": "Book() takes no arguments",
     "output_type": "error",
     "traceback": [
      "\u001b[1;31m---------------------------------------------------------------------------\u001b[0m",
      "\u001b[1;31mTypeError\u001b[0m                                 Traceback (most recent call last)",
      "Cell \u001b[1;32mIn[1], line 93\u001b[0m\n\u001b[0;32m     88\u001b[0m             \u001b[38;5;28mprint\u001b[39m(book)\n\u001b[0;32m     91\u001b[0m \u001b[38;5;66;03m# Example Usage\u001b[39;00m\n\u001b[0;32m     92\u001b[0m \u001b[38;5;66;03m# Create instances of Book\u001b[39;00m\n\u001b[1;32m---> 93\u001b[0m book1 \u001b[38;5;241m=\u001b[39m \u001b[43mBook\u001b[49m\u001b[43m(\u001b[49m\u001b[38;5;124;43m\"\u001b[39;49m\u001b[38;5;124;43mThe Great Gatsby\u001b[39;49m\u001b[38;5;124;43m\"\u001b[39;49m\u001b[43m,\u001b[49m\u001b[43m \u001b[49m\u001b[38;5;124;43m\"\u001b[39;49m\u001b[38;5;124;43mF. Scott Fitzgerald\u001b[39;49m\u001b[38;5;124;43m\"\u001b[39;49m\u001b[43m)\u001b[49m\n\u001b[0;32m     94\u001b[0m book2 \u001b[38;5;241m=\u001b[39m Book(\u001b[38;5;124m\"\u001b[39m\u001b[38;5;124m1984\u001b[39m\u001b[38;5;124m\"\u001b[39m, \u001b[38;5;124m\"\u001b[39m\u001b[38;5;124mGeorge Orwell\u001b[39m\u001b[38;5;124m\"\u001b[39m)\n\u001b[0;32m     96\u001b[0m \u001b[38;5;66;03m# Create an instance of Library\u001b[39;00m\n",
      "\u001b[1;31mTypeError\u001b[0m: Book() takes no arguments"
     ]
    }
   ],
   "source": [
    "\n",
    "      \n",
    "        \n"
   ]
  },
  {
   "cell_type": "code",
   "execution_count": 1,
   "id": "bc1c1d06-0c0b-4f59-af5d-54e6d044fe44",
   "metadata": {},
   "outputs": [
    {
     "name": "stdout",
     "output_type": "stream",
     "text": [
      "You have borrowed \"1984\".\n",
      "The book \"1984\" is not available.\n",
      "You have returned \"1984\".\n",
      "The book \"1984\" was not borrowed.\n",
      "Library: City Library - Book Collection:\n",
      "The Great Gatsby by F. Scott Fitzgerald - availabel\n",
      "1984 by George Orwell - availabel\n"
     ]
    }
   ],
   "source": [
    "class Book:\n",
    "    \"\"\"this class represents a book in library\n",
    "    Attributes:\n",
    "    title: title of the book,\n",
    "    author: author of the book,\n",
    "    is_borrowed : boolean indicating if the book is borrowed or not\"\"\"\n",
    "    def __init__(item,title:str,author:str):\n",
    "        \"\"\"constructor\"\"\"\n",
    "        item.title=title\n",
    "        item.author=author\n",
    "        item.is_borrowed=False\n",
    "    def borrow(item):\n",
    "       \" marks the book as borrowed \"\n",
    "       if not item.is_borrowed:\n",
    "           item.is_borrowed=True\n",
    "           return True\n",
    "       return False\n",
    "    def return_book(item):\n",
    "        \"marks the book as returned\"\n",
    "        if item.is_borrowed:\n",
    "            item.is_borrowed=False\n",
    "            return True\n",
    "        return False\n",
    "    def __str__(item):\n",
    "        status=\"Borrowed\" if item.is_borrowed else \"availabel\"\n",
    "        return f'{item.title} by {item.author} - {status}'\n",
    "\n",
    "class Library:\n",
    "    \"\"\" this class manages the collection books.\n",
    "    attributes:\n",
    "    library_name:name of the library\n",
    "    books:a list of book objects\n",
    "    \"\"\"\n",
    "    def __init__(item, library_name: str):\n",
    "        item.library_name = library_name\n",
    "        item.books = []\n",
    "    def add_book(item, new_book: Book):\n",
    "       \"\"\"adds a book to the library .new_book:a book object\"\"\"\n",
    "       item.books.append(new_book)\n",
    "    def borrow_book(item, book_title: str):\n",
    "        \"\"\"borrows a book from the library.book_title: The title of the book to borrow\n",
    "         \"\"\"\n",
    "        for book in item.books:\n",
    "            if book.title == book_title and not book.is_borrowed:\n",
    "                book.borrow()\n",
    "                return f'You have borrowed \"{book_title}\".'\n",
    "        return f'The book \"{book_title}\" is not available.'\n",
    "\n",
    "    def return_book(item, book_title: str):\n",
    "        \"\"\"returns a borrowed book to the library.The title of the book to return\n",
    "        \"\"\"\n",
    "        for book in item.books:\n",
    "            if book.title == book_title and book.is_borrowed:\n",
    "                book.return_book()\n",
    "                return f'You have returned \"{book_title}\".'\n",
    "        return f'The book \"{book_title}\" was not borrowed.'\n",
    "\n",
    "    def get_books_report(item):\n",
    "        \"\"\"prints the report of all books in the library.\n",
    "        \"\"\"\n",
    "        print(f'Library: {item.library_name} - Book Collection:')\n",
    "        for book in item.books:\n",
    "            print(book)\n",
    "\"object of book\"\n",
    "book_a = Book(\"The Great Gatsby\", \"F. Scott Fitzgerald\")\n",
    "book_b = Book(\"1984\", \"George Orwell\")\n",
    "\"object of library\"\n",
    "city_library = Library(\"City Library\")\n",
    "\"Add books to the library\"\n",
    "city_library.add_book(book_a)\n",
    "city_library.add_book(book_b)\n",
    "\"Borrow a book\"\n",
    "print(city_library.borrow_book(\"1984\"))\n",
    "\" Try to borrow the same book again\"\n",
    "print(city_library.borrow_book(\"1984\"))\n",
    "\"Return a book\"\n",
    "print(city_library.return_book(\"1984\"))\n",
    "\"Try to return the same book again\"\n",
    "print(city_library.return_book(\"1984\"))\n",
    "\" Print the library books report\"\n",
    "city_library.get_books_report()"
   ]
  },
  {
   "cell_type": "code",
   "execution_count": null,
   "id": "ed8d8428-0ca3-4aac-928a-32ed5a68832f",
   "metadata": {},
   "outputs": [],
   "source": []
  }
 ],
 "metadata": {
  "kernelspec": {
   "display_name": "Python 3 (ipykernel)",
   "language": "python",
   "name": "python3"
  },
  "language_info": {
   "codemirror_mode": {
    "name": "ipython",
    "version": 3
   },
   "file_extension": ".py",
   "mimetype": "text/x-python",
   "name": "python",
   "nbconvert_exporter": "python",
   "pygments_lexer": "ipython3",
   "version": "3.12.3"
  }
 },
 "nbformat": 4,
 "nbformat_minor": 5
}
